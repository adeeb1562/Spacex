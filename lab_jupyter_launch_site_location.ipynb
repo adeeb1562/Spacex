{
  "metadata": {
    "kernelspec": {
      "name": "python",
      "display_name": "Python (Pyodide)",
      "language": "python"
    },
    "language_info": {
      "codemirror_mode": {
        "name": "python",
        "version": 3
      },
      "file_extension": ".py",
      "mimetype": "text/x-python",
      "name": "python",
      "nbconvert_exporter": "python",
      "pygments_lexer": "ipython3",
      "version": "3.8"
    },
    "prev_pub_hash": "0f9db842b41c859223722809f8be602f5df9334348bd206b11e3af58c30eb345"
  },
  "nbformat_minor": 4,
  "nbformat": 4,
  "cells": [
    {
      "cell_type": "markdown",
      "source": "<p style=\"text-align:center\">\n    <a href=\"https://skills.network/?utm_medium=Exinfluencer&utm_source=Exinfluencer&utm_content=000026UJ&utm_term=10006555&utm_id=NA-SkillsNetwork-Channel-SkillsNetworkCoursesIBMDS0321ENSkillsNetwork26802033-2022-01-01\" target=\"_blank\">\n    <img src=\"https://cf-courses-data.s3.us.cloud-object-storage.appdomain.cloud/assets/logos/SN_web_lightmode.png\" width=\"200\" alt=\"Skills Network Logo\">\n    </a>\n</p>\n",
      "metadata": {}
    },
    {
      "cell_type": "markdown",
      "source": "# **Hands-on Lab: Interactive Visual Analytics with Folium**\n",
      "metadata": {}
    },
    {
      "cell_type": "markdown",
      "source": "Estimated time needed: **40** minutes\n",
      "metadata": {}
    },
    {
      "cell_type": "markdown",
      "source": "The launch success rate may depend on many factors such as payload mass, orbit type, and so on. It may also depend on the location and proximities of a launch site, i.e., the initial position of rocket trajectories. Finding an optimal location for building a launch site certainly involves many factors and hopefully we could discover some of the factors by analyzing the existing launch site locations.\n",
      "metadata": {}
    },
    {
      "cell_type": "markdown",
      "source": "In the previous exploratory data analysis labs, you have visualized the SpaceX launch dataset using `matplotlib` and `seaborn` and discovered some preliminary correlations between the launch site and success rates. In this lab, you will be performing more interactive visual analytics using `Folium`.\n",
      "metadata": {}
    },
    {
      "cell_type": "markdown",
      "source": "## Objectives\n",
      "metadata": {}
    },
    {
      "cell_type": "markdown",
      "source": "This lab contains the following tasks:\n\n*   **TASK 1:** Mark all launch sites on a map\n*   **TASK 2:** Mark the success/failed launches for each site on the map\n*   **TASK 3:** Calculate the distances between a launch site to its proximities\n\nAfter completed the above tasks, you should be able to find some geographical patterns about launch sites.\n",
      "metadata": {}
    },
    {
      "cell_type": "markdown",
      "source": "Let's first import required Python packages for this lab:\n",
      "metadata": {}
    },
    {
      "cell_type": "code",
      "source": "import piplite\nawait piplite.install(['folium'])\nawait piplite.install(['pandas'])",
      "metadata": {
        "trusted": true
      },
      "outputs": [],
      "execution_count": 1
    },
    {
      "cell_type": "code",
      "source": "import folium\nimport pandas as pd",
      "metadata": {
        "trusted": true
      },
      "outputs": [],
      "execution_count": 2
    },
    {
      "cell_type": "code",
      "source": "# Import folium MarkerCluster plugin\nfrom folium.plugins import MarkerCluster\n# Import folium MousePosition plugin\nfrom folium.plugins import MousePosition\n# Import folium DivIcon plugin\nfrom folium.features import DivIcon",
      "metadata": {
        "trusted": true
      },
      "outputs": [],
      "execution_count": 4
    },
    {
      "cell_type": "markdown",
      "source": "If you need to refresh your memory about folium, you may download and refer to this previous folium lab:\n",
      "metadata": {}
    },
    {
      "cell_type": "markdown",
      "source": "[Generating Maps with Python](https://cf-courses-data.s3.us.cloud-object-storage.appdomain.cloud/IBMDeveloperSkillsNetwork-DV0101EN-SkillsNetwork/labs/v4/DV0101EN-Exercise-Generating-Maps-in-Python.ipynb)\n",
      "metadata": {}
    },
    {
      "cell_type": "code",
      "source": "## Task 1: Mark all launch sites on a map\n",
      "metadata": {},
      "outputs": [],
      "execution_count": null
    },
    {
      "cell_type": "markdown",
      "source": "First, let's try to add each site's location on a map using site's latitude and longitude coordinates\n",
      "metadata": {}
    },
    {
      "cell_type": "markdown",
      "source": "The following dataset with the name `spacex_launch_geo.csv` is an augmented dataset with latitude and longitude added for each site.\n",
      "metadata": {}
    },
    {
      "cell_type": "code",
      "source": "# Download and read the `spacex_launch_geo.csv`\nfrom js import fetch\nimport io\n\nURL = 'https://cf-courses-data.s3.us.cloud-object-storage.appdomain.cloud/IBM-DS0321EN-SkillsNetwork/datasets/spacex_launch_geo.csv'\nresp = await fetch(URL)\nspacex_csv_file = io.BytesIO((await resp.arrayBuffer()).to_py())\nspacex_df=pd.read_csv(spacex_csv_file)",
      "metadata": {
        "trusted": true
      },
      "outputs": [],
      "execution_count": 5
    },
    {
      "cell_type": "code",
      "source": "spacex_df",
      "metadata": {
        "trusted": true
      },
      "outputs": [
        {
          "execution_count": 7,
          "output_type": "execute_result",
          "data": {
            "text/plain": "    Flight Number        Date Time (UTC) Booster Version   Launch Site  \\\n0               1  2010-06-04   18:45:00  F9 v1.0  B0003   CCAFS LC-40   \n1               2  2010-12-08   15:43:00  F9 v1.0  B0004   CCAFS LC-40   \n2               3  2012-05-22    7:44:00  F9 v1.0  B0005   CCAFS LC-40   \n3               4  2012-10-08    0:35:00  F9 v1.0  B0006   CCAFS LC-40   \n4               5  2013-03-01   15:10:00  F9 v1.0  B0007   CCAFS LC-40   \n5               7  2013-12-03   22:41:00         F9 v1.1   CCAFS LC-40   \n6               8  2014-01-06   22:06:00         F9 v1.1   CCAFS LC-40   \n7               9  2014-04-18   19:25:00         F9 v1.1   CCAFS LC-40   \n8              10  2014-07-14   15:15:00         F9 v1.1   CCAFS LC-40   \n9              11  2014-08-05    8:00:00         F9 v1.1   CCAFS LC-40   \n10             12  2014-09-07    5:00:00   F9 v1.1 B1011   CCAFS LC-40   \n11             13  2014-09-21    5:52:00   F9 v1.1 B1010   CCAFS LC-40   \n12             14  2015-01-10    9:47:00   F9 v1.1 B1012   CCAFS LC-40   \n13             15  2015-02-11   23:03:00   F9 v1.1 B1013   CCAFS LC-40   \n14             16  2015-03-02    3:50:00   F9 v1.1 B1014   CCAFS LC-40   \n15             17  2015-04-14   20:10:00   F9 v1.1 B1015   CCAFS LC-40   \n16             18  2015-04-27   23:03:00   F9 v1.1 B1016   CCAFS LC-40   \n17             19  2015-06-28   14:21:00   F9 v1.1 B1018   CCAFS LC-40   \n18             20  2015-12-22    1:29:00     F9 FT B1019   CCAFS LC-40   \n19             22  2016-03-04   23:35:00     F9 FT B1020   CCAFS LC-40   \n20             23  2016-04-08   20:43:00   F9 FT B1021.1   CCAFS LC-40   \n21             24  2016-05-06    5:21:00     F9 FT B1022   CCAFS LC-40   \n22             25  2016-05-27   21:39:00   F9 FT B1023.1   CCAFS LC-40   \n23             26  2016-06-15   14:29:00     F9 FT B1024   CCAFS LC-40   \n24             27  2016-07-18    4:45:00   F9 FT B1025.1   CCAFS LC-40   \n25             28  2016-08-14    5:26:00     F9 FT B1026   CCAFS LC-40   \n26              6  2013-09-29   16:00:00  F9 v1.1  B1003   VAFB SLC-4E   \n27             21  2016-01-17   18:42:00   F9 v1.1 B1017   VAFB SLC-4E   \n28             29  2017-01-14   17:54:00   F9 FT B1029.1   VAFB SLC-4E   \n29             37  2017-06-25   20:25:00   F9 FT B1036.1   VAFB SLC-4E   \n30             40  2017-08-24   18:51:00   F9 FT B1038.1   VAFB SLC-4E   \n31             42  2017-10-09   12:37:00   F9 B4 B1041.1   VAFB SLC-4E   \n32             46  2017-12-23    1:27:00  F9 FT  B1036.2   VAFB SLC-4E   \n33             49  2018-02-22   14:17:00  F9 FT  B1038.2   VAFB SLC-4E   \n34             51  2018-03-30   14:14:00  F9 B4  B1041.2   VAFB SLC-4E   \n35             55  2018-05-22   19:47:58  F9 B4  B1043.2   VAFB SLC-4E   \n36             30  2017-02-19   14:39:00   F9 FT B1031.1    KSC LC-39A   \n37             31  2017-03-16    6:00:00     F9 FT B1030    KSC LC-39A   \n38             32  2017-03-30   22:27:00  F9 FT  B1021.2    KSC LC-39A   \n39             33  2017-05-01   11:15:00   F9 FT B1032.1    KSC LC-39A   \n40             34  2017-05-15   23:21:00     F9 FT B1034    KSC LC-39A   \n41             35  2017-06-03   21:07:00   F9 FT B1035.1    KSC LC-39A   \n42             36  2017-06-23   19:10:00  F9 FT  B1029.2    KSC LC-39A   \n43             38  2017-07-05   23:38:00     F9 FT B1037    KSC LC-39A   \n44             39  2017-08-14   16:31:00   F9 B4 B1039.1    KSC LC-39A   \n45             41  2017-09-07   14:00:00   F9 B4 B1040.1    KSC LC-39A   \n46             43  2017-10-11   22:53:00  F9 FT  B1031.2    KSC LC-39A   \n47             44  2017-10-30   19:34:00   F9 B4 B1042.1    KSC LC-39A   \n48             54  2018-05-11   20:14:00  F9 B5  B1046.1    KSC LC-39A   \n49             45  2017-12-15   15:36:00  F9 FT  B1035.2  CCAFS SLC-40   \n50             47  2018-01-08    1:00:00   F9 B4 B1043.1  CCAFS SLC-40   \n51             48  2018-01-31   21:25:00  F9 FT  B1032.2  CCAFS SLC-40   \n52             50  2018-03-06    5:33:00     F9 B4 B1044  CCAFS SLC-40   \n53             52  2018-04-02   20:30:00  F9 B4  B1039.2  CCAFS SLC-40   \n54             53  2018-04-18   22:51:00   F9 B4 B1045.1  CCAFS SLC-40   \n55             56  2018-06-04    4:45:00  F9 B4  B1040.2  CCAFS SLC-40   \n\n                                              Payload  Payload Mass (kg)  \\\n0                Dragon Spacecraft Qualification Unit               0.00   \n1   Dragon demo flight C1, two CubeSats,  barrel o...               0.00   \n2                              Dragon demo flight C2+             525.00   \n3                                        SpaceX CRS-1             500.00   \n4                                        SpaceX CRS-2             677.00   \n5                                               SES-8            3170.00   \n6                                           Thaicom 6            3325.00   \n7                                        SpaceX CRS-3            2296.00   \n8             OG2 Mission 1  6 Orbcomm-OG2 satellites            1316.00   \n9                                           AsiaSat 8            4535.00   \n10                                          AsiaSat 6            4428.00   \n11                                       SpaceX CRS-4            2216.00   \n12                                       SpaceX CRS-5            2395.00   \n13                                             DSCOVR             570.00   \n14                         ABS-3A Eutelsat 115 West B            4159.00   \n15                                       SpaceX CRS-6            1898.00   \n16                       TürkmenÄlem 52°E / MonacoSAT            4707.00   \n17                                       SpaceX CRS-7            1952.00   \n18          OG2 Mission 2   11 Orbcomm-OG2 satellites            2034.00   \n19                                              SES-9            5271.00   \n20                                       SpaceX CRS-8            3136.00   \n21                                           JCSAT-14            4696.00   \n22                                          Thaicom 8            3100.00   \n23                         ABS-2A Eutelsat 117 West B            3600.00   \n24                                       SpaceX CRS-9            2257.00   \n25                                           JCSAT-16            4600.00   \n26                                           CASSIOPE             500.00   \n27                                            Jason-3             553.00   \n28                                     Iridium NEXT 1            9600.00   \n29                                     Iridium NEXT 2            9600.00   \n30                                         Formosat-5             475.00   \n31                                     Iridium NEXT 3            9600.00   \n32                                     Iridium NEXT 4            9600.00   \n33                                  Paz  Tintin A & B            2150.00   \n34                                     Iridium NEXT 5            9600.00   \n35                     Iridium NEXT 6   GRACE-FO 1, 2            6460.00   \n36                                      SpaceX CRS-10            2490.00   \n37                                        EchoStar 23            5600.00   \n38                                             SES-10            5300.00   \n39                                            NROL-76            3696.65   \n40                                      Inmarsat-5 F4            6070.00   \n41                                      SpaceX CRS-11            2708.00   \n42                                      BulgariaSat-1            3669.00   \n43                                       Intelsat 35e            6761.00   \n44                                      SpaceX CRS-12            3310.00   \n45                                 Boeing X-37B OTV-5            4990.00   \n46                              SES-11 / EchoStar 105            5200.00   \n47                                        Koreasat 5A            3500.00   \n48                                      Bangabandhu-1            3600.00   \n49                                      SpaceX CRS-13            2205.00   \n50                                               Zuma            3696.65   \n51                                  GovSat-1 / SES-16            4230.00   \n52                             Hispasat 30W-6  PODSat            6092.00   \n53                                      SpaceX CRS-14            2647.00   \n54       Transiting Exoplanet Survey Satellite (TESS)             362.00   \n55                                             SES-12            5384.00   \n\n           Orbit                            Customer          Landing Outcome  \\\n0            LEO                              SpaceX    Failure   (parachute)   \n1      LEO (ISS)                     NASA (COTS) NRO    Failure   (parachute)   \n2      LEO (ISS)                         NASA (COTS)               No attempt   \n3      LEO (ISS)                          NASA (CRS)               No attempt   \n4      LEO (ISS)                          NASA (CRS)               No attempt   \n5            GTO                                 SES               No attempt   \n6            GTO                             Thaicom               No attempt   \n7      LEO (ISS)                          NASA (CRS)       Controlled (ocean)   \n8            LEO                             Orbcomm       Controlled (ocean)   \n9            GTO                             AsiaSat               No attempt   \n10           GTO                             AsiaSat               No attempt   \n11     LEO (ISS)                          NASA (CRS)     Uncontrolled (ocean)   \n12     LEO (ISS)                          NASA (CRS)    Failure  (drone ship)   \n13  Sun–Earth L1            U.S. Air Force NASA NOAA       Controlled (ocean)   \n14           GTO                        ABS Eutelsat               No attempt   \n15     LEO (ISS)                          NASA (CRS)    Failure  (drone ship)   \n16           GTO  Turkmenistan National Space Agency               No attempt   \n17     LEO (ISS)                          NASA (CRS)  Precluded  (drone ship)   \n18           LEO                             Orbcomm    Success  (ground pad)   \n19           GTO                                 SES     Failure (drone ship)   \n20     LEO (ISS)                          NASA (CRS)    Success  (drone ship)   \n21           GTO              SKY Perfect JSAT Group     Success (drone ship)   \n22           GTO                             Thaicom    Success  (drone ship)   \n23           GTO                        ABS Eutelsat    Failure  (drone ship)   \n24     LEO (ISS)                          NASA (CRS)     Success (ground pad)   \n25           GTO              SKY Perfect JSAT Group     Success (drone ship)   \n26     Polar LEO                                 MDA     Uncontrolled (ocean)   \n27           LEO                NASA (LSP) NOAA CNES     Failure (drone ship)   \n28     Polar LEO              Iridium Communications    Success  (drone ship)   \n29           LEO              Iridium Communications     Success (drone ship)   \n30           SSO                                NSPO     Success (drone ship)   \n31     Polar LEO              Iridium Communications     Success (drone ship)   \n32     Polar LEO              Iridium Communications       Controlled (ocean)   \n33           SSO          Hisdesat exactEarth SpaceX               No attempt   \n34     Polar LEO              Iridium Communications               No attempt   \n35     Polar LEO   Iridium Communications GFZ • NASA               No attempt   \n36     LEO (ISS)                          NASA (CRS)     Success (ground pad)   \n37           GTO                            EchoStar               No attempt   \n38           GTO                                 SES     Success (drone ship)   \n39           LEO                                 NRO     Success (ground pad)   \n40           GTO                            Inmarsat               No attempt   \n41     LEO (ISS)                          NASA (CRS)     Success (ground pad)   \n42           GTO                           Bulsatcom     Success (drone ship)   \n43           GTO                            Intelsat               No attempt   \n44     LEO (ISS)                          NASA (CRS)     Success (ground pad)   \n45           LEO                      U.S. Air Force     Success (ground pad)   \n46           GTO                        SES EchoStar     Success (drone ship)   \n47           GTO                      KT Corporation     Success (drone ship)   \n48           GTO                  Thales-Alenia/BTRC     Success (drone ship)   \n49     LEO (ISS)                          NASA (CRS)     Success (ground pad)   \n50           LEO                    Northrop Grumman     Success (ground pad)   \n51           GTO                                 SES       Controlled (ocean)   \n52           GTO                 Hispasat  NovaWurks               No attempt   \n53     LEO (ISS)                          NASA (CRS)               No attempt   \n54           HEO                          NASA (LSP)     Success (drone ship)   \n55           GTO                                 SES               No attempt   \n\n    class        Lat        Long  \n0       0  28.562302  -80.577356  \n1       0  28.562302  -80.577356  \n2       0  28.562302  -80.577356  \n3       0  28.562302  -80.577356  \n4       0  28.562302  -80.577356  \n5       0  28.562302  -80.577356  \n6       0  28.562302  -80.577356  \n7       0  28.562302  -80.577356  \n8       0  28.562302  -80.577356  \n9       0  28.562302  -80.577356  \n10      0  28.562302  -80.577356  \n11      0  28.562302  -80.577356  \n12      0  28.562302  -80.577356  \n13      0  28.562302  -80.577356  \n14      0  28.562302  -80.577356  \n15      0  28.562302  -80.577356  \n16      0  28.562302  -80.577356  \n17      1  28.562302  -80.577356  \n18      1  28.562302  -80.577356  \n19      0  28.562302  -80.577356  \n20      1  28.562302  -80.577356  \n21      1  28.562302  -80.577356  \n22      1  28.562302  -80.577356  \n23      0  28.562302  -80.577356  \n24      1  28.562302  -80.577356  \n25      1  28.562302  -80.577356  \n26      0  34.632834 -120.610745  \n27      0  34.632834 -120.610745  \n28      1  34.632834 -120.610745  \n29      1  34.632834 -120.610745  \n30      1  34.632834 -120.610745  \n31      1  34.632834 -120.610745  \n32      0  34.632834 -120.610745  \n33      0  34.632834 -120.610745  \n34      0  34.632834 -120.610745  \n35      0  34.632834 -120.610745  \n36      1  28.573255  -80.646895  \n37      0  28.573255  -80.646895  \n38      1  28.573255  -80.646895  \n39      1  28.573255  -80.646895  \n40      0  28.573255  -80.646895  \n41      1  28.573255  -80.646895  \n42      1  28.573255  -80.646895  \n43      0  28.573255  -80.646895  \n44      1  28.573255  -80.646895  \n45      1  28.573255  -80.646895  \n46      1  28.573255  -80.646895  \n47      1  28.573255  -80.646895  \n48      1  28.573255  -80.646895  \n49      1  28.563197  -80.576820  \n50      1  28.563197  -80.576820  \n51      0  28.563197  -80.576820  \n52      0  28.563197  -80.576820  \n53      0  28.563197  -80.576820  \n54      1  28.563197  -80.576820  \n55      0  28.563197  -80.576820  ",
            "text/html": "<div>\n<style scoped>\n    .dataframe tbody tr th:only-of-type {\n        vertical-align: middle;\n    }\n\n    .dataframe tbody tr th {\n        vertical-align: top;\n    }\n\n    .dataframe thead th {\n        text-align: right;\n    }\n</style>\n<table border=\"1\" class=\"dataframe\">\n  <thead>\n    <tr style=\"text-align: right;\">\n      <th></th>\n      <th>Flight Number</th>\n      <th>Date</th>\n      <th>Time (UTC)</th>\n      <th>Booster Version</th>\n      <th>Launch Site</th>\n      <th>Payload</th>\n      <th>Payload Mass (kg)</th>\n      <th>Orbit</th>\n      <th>Customer</th>\n      <th>Landing Outcome</th>\n      <th>class</th>\n      <th>Lat</th>\n      <th>Long</th>\n    </tr>\n  </thead>\n  <tbody>\n    <tr>\n      <th>0</th>\n      <td>1</td>\n      <td>2010-06-04</td>\n      <td>18:45:00</td>\n      <td>F9 v1.0  B0003</td>\n      <td>CCAFS LC-40</td>\n      <td>Dragon Spacecraft Qualification Unit</td>\n      <td>0.00</td>\n      <td>LEO</td>\n      <td>SpaceX</td>\n      <td>Failure   (parachute)</td>\n      <td>0</td>\n      <td>28.562302</td>\n      <td>-80.577356</td>\n    </tr>\n    <tr>\n      <th>1</th>\n      <td>2</td>\n      <td>2010-12-08</td>\n      <td>15:43:00</td>\n      <td>F9 v1.0  B0004</td>\n      <td>CCAFS LC-40</td>\n      <td>Dragon demo flight C1, two CubeSats,  barrel o...</td>\n      <td>0.00</td>\n      <td>LEO (ISS)</td>\n      <td>NASA (COTS) NRO</td>\n      <td>Failure   (parachute)</td>\n      <td>0</td>\n      <td>28.562302</td>\n      <td>-80.577356</td>\n    </tr>\n    <tr>\n      <th>2</th>\n      <td>3</td>\n      <td>2012-05-22</td>\n      <td>7:44:00</td>\n      <td>F9 v1.0  B0005</td>\n      <td>CCAFS LC-40</td>\n      <td>Dragon demo flight C2+</td>\n      <td>525.00</td>\n      <td>LEO (ISS)</td>\n      <td>NASA (COTS)</td>\n      <td>No attempt</td>\n      <td>0</td>\n      <td>28.562302</td>\n      <td>-80.577356</td>\n    </tr>\n    <tr>\n      <th>3</th>\n      <td>4</td>\n      <td>2012-10-08</td>\n      <td>0:35:00</td>\n      <td>F9 v1.0  B0006</td>\n      <td>CCAFS LC-40</td>\n      <td>SpaceX CRS-1</td>\n      <td>500.00</td>\n      <td>LEO (ISS)</td>\n      <td>NASA (CRS)</td>\n      <td>No attempt</td>\n      <td>0</td>\n      <td>28.562302</td>\n      <td>-80.577356</td>\n    </tr>\n    <tr>\n      <th>4</th>\n      <td>5</td>\n      <td>2013-03-01</td>\n      <td>15:10:00</td>\n      <td>F9 v1.0  B0007</td>\n      <td>CCAFS LC-40</td>\n      <td>SpaceX CRS-2</td>\n      <td>677.00</td>\n      <td>LEO (ISS)</td>\n      <td>NASA (CRS)</td>\n      <td>No attempt</td>\n      <td>0</td>\n      <td>28.562302</td>\n      <td>-80.577356</td>\n    </tr>\n    <tr>\n      <th>5</th>\n      <td>7</td>\n      <td>2013-12-03</td>\n      <td>22:41:00</td>\n      <td>F9 v1.1</td>\n      <td>CCAFS LC-40</td>\n      <td>SES-8</td>\n      <td>3170.00</td>\n      <td>GTO</td>\n      <td>SES</td>\n      <td>No attempt</td>\n      <td>0</td>\n      <td>28.562302</td>\n      <td>-80.577356</td>\n    </tr>\n    <tr>\n      <th>6</th>\n      <td>8</td>\n      <td>2014-01-06</td>\n      <td>22:06:00</td>\n      <td>F9 v1.1</td>\n      <td>CCAFS LC-40</td>\n      <td>Thaicom 6</td>\n      <td>3325.00</td>\n      <td>GTO</td>\n      <td>Thaicom</td>\n      <td>No attempt</td>\n      <td>0</td>\n      <td>28.562302</td>\n      <td>-80.577356</td>\n    </tr>\n    <tr>\n      <th>7</th>\n      <td>9</td>\n      <td>2014-04-18</td>\n      <td>19:25:00</td>\n      <td>F9 v1.1</td>\n      <td>CCAFS LC-40</td>\n      <td>SpaceX CRS-3</td>\n      <td>2296.00</td>\n      <td>LEO (ISS)</td>\n      <td>NASA (CRS)</td>\n      <td>Controlled (ocean)</td>\n      <td>0</td>\n      <td>28.562302</td>\n      <td>-80.577356</td>\n    </tr>\n    <tr>\n      <th>8</th>\n      <td>10</td>\n      <td>2014-07-14</td>\n      <td>15:15:00</td>\n      <td>F9 v1.1</td>\n      <td>CCAFS LC-40</td>\n      <td>OG2 Mission 1  6 Orbcomm-OG2 satellites</td>\n      <td>1316.00</td>\n      <td>LEO</td>\n      <td>Orbcomm</td>\n      <td>Controlled (ocean)</td>\n      <td>0</td>\n      <td>28.562302</td>\n      <td>-80.577356</td>\n    </tr>\n    <tr>\n      <th>9</th>\n      <td>11</td>\n      <td>2014-08-05</td>\n      <td>8:00:00</td>\n      <td>F9 v1.1</td>\n      <td>CCAFS LC-40</td>\n      <td>AsiaSat 8</td>\n      <td>4535.00</td>\n      <td>GTO</td>\n      <td>AsiaSat</td>\n      <td>No attempt</td>\n      <td>0</td>\n      <td>28.562302</td>\n      <td>-80.577356</td>\n    </tr>\n    <tr>\n      <th>10</th>\n      <td>12</td>\n      <td>2014-09-07</td>\n      <td>5:00:00</td>\n      <td>F9 v1.1 B1011</td>\n      <td>CCAFS LC-40</td>\n      <td>AsiaSat 6</td>\n      <td>4428.00</td>\n      <td>GTO</td>\n      <td>AsiaSat</td>\n      <td>No attempt</td>\n      <td>0</td>\n      <td>28.562302</td>\n      <td>-80.577356</td>\n    </tr>\n    <tr>\n      <th>11</th>\n      <td>13</td>\n      <td>2014-09-21</td>\n      <td>5:52:00</td>\n      <td>F9 v1.1 B1010</td>\n      <td>CCAFS LC-40</td>\n      <td>SpaceX CRS-4</td>\n      <td>2216.00</td>\n      <td>LEO (ISS)</td>\n      <td>NASA (CRS)</td>\n      <td>Uncontrolled (ocean)</td>\n      <td>0</td>\n      <td>28.562302</td>\n      <td>-80.577356</td>\n    </tr>\n    <tr>\n      <th>12</th>\n      <td>14</td>\n      <td>2015-01-10</td>\n      <td>9:47:00</td>\n      <td>F9 v1.1 B1012</td>\n      <td>CCAFS LC-40</td>\n      <td>SpaceX CRS-5</td>\n      <td>2395.00</td>\n      <td>LEO (ISS)</td>\n      <td>NASA (CRS)</td>\n      <td>Failure  (drone ship)</td>\n      <td>0</td>\n      <td>28.562302</td>\n      <td>-80.577356</td>\n    </tr>\n    <tr>\n      <th>13</th>\n      <td>15</td>\n      <td>2015-02-11</td>\n      <td>23:03:00</td>\n      <td>F9 v1.1 B1013</td>\n      <td>CCAFS LC-40</td>\n      <td>DSCOVR</td>\n      <td>570.00</td>\n      <td>Sun–Earth L1</td>\n      <td>U.S. Air Force NASA NOAA</td>\n      <td>Controlled (ocean)</td>\n      <td>0</td>\n      <td>28.562302</td>\n      <td>-80.577356</td>\n    </tr>\n    <tr>\n      <th>14</th>\n      <td>16</td>\n      <td>2015-03-02</td>\n      <td>3:50:00</td>\n      <td>F9 v1.1 B1014</td>\n      <td>CCAFS LC-40</td>\n      <td>ABS-3A Eutelsat 115 West B</td>\n      <td>4159.00</td>\n      <td>GTO</td>\n      <td>ABS Eutelsat</td>\n      <td>No attempt</td>\n      <td>0</td>\n      <td>28.562302</td>\n      <td>-80.577356</td>\n    </tr>\n    <tr>\n      <th>15</th>\n      <td>17</td>\n      <td>2015-04-14</td>\n      <td>20:10:00</td>\n      <td>F9 v1.1 B1015</td>\n      <td>CCAFS LC-40</td>\n      <td>SpaceX CRS-6</td>\n      <td>1898.00</td>\n      <td>LEO (ISS)</td>\n      <td>NASA (CRS)</td>\n      <td>Failure  (drone ship)</td>\n      <td>0</td>\n      <td>28.562302</td>\n      <td>-80.577356</td>\n    </tr>\n    <tr>\n      <th>16</th>\n      <td>18</td>\n      <td>2015-04-27</td>\n      <td>23:03:00</td>\n      <td>F9 v1.1 B1016</td>\n      <td>CCAFS LC-40</td>\n      <td>TürkmenÄlem 52°E / MonacoSAT</td>\n      <td>4707.00</td>\n      <td>GTO</td>\n      <td>Turkmenistan National Space Agency</td>\n      <td>No attempt</td>\n      <td>0</td>\n      <td>28.562302</td>\n      <td>-80.577356</td>\n    </tr>\n    <tr>\n      <th>17</th>\n      <td>19</td>\n      <td>2015-06-28</td>\n      <td>14:21:00</td>\n      <td>F9 v1.1 B1018</td>\n      <td>CCAFS LC-40</td>\n      <td>SpaceX CRS-7</td>\n      <td>1952.00</td>\n      <td>LEO (ISS)</td>\n      <td>NASA (CRS)</td>\n      <td>Precluded  (drone ship)</td>\n      <td>1</td>\n      <td>28.562302</td>\n      <td>-80.577356</td>\n    </tr>\n    <tr>\n      <th>18</th>\n      <td>20</td>\n      <td>2015-12-22</td>\n      <td>1:29:00</td>\n      <td>F9 FT B1019</td>\n      <td>CCAFS LC-40</td>\n      <td>OG2 Mission 2   11 Orbcomm-OG2 satellites</td>\n      <td>2034.00</td>\n      <td>LEO</td>\n      <td>Orbcomm</td>\n      <td>Success  (ground pad)</td>\n      <td>1</td>\n      <td>28.562302</td>\n      <td>-80.577356</td>\n    </tr>\n    <tr>\n      <th>19</th>\n      <td>22</td>\n      <td>2016-03-04</td>\n      <td>23:35:00</td>\n      <td>F9 FT B1020</td>\n      <td>CCAFS LC-40</td>\n      <td>SES-9</td>\n      <td>5271.00</td>\n      <td>GTO</td>\n      <td>SES</td>\n      <td>Failure (drone ship)</td>\n      <td>0</td>\n      <td>28.562302</td>\n      <td>-80.577356</td>\n    </tr>\n    <tr>\n      <th>20</th>\n      <td>23</td>\n      <td>2016-04-08</td>\n      <td>20:43:00</td>\n      <td>F9 FT B1021.1</td>\n      <td>CCAFS LC-40</td>\n      <td>SpaceX CRS-8</td>\n      <td>3136.00</td>\n      <td>LEO (ISS)</td>\n      <td>NASA (CRS)</td>\n      <td>Success  (drone ship)</td>\n      <td>1</td>\n      <td>28.562302</td>\n      <td>-80.577356</td>\n    </tr>\n    <tr>\n      <th>21</th>\n      <td>24</td>\n      <td>2016-05-06</td>\n      <td>5:21:00</td>\n      <td>F9 FT B1022</td>\n      <td>CCAFS LC-40</td>\n      <td>JCSAT-14</td>\n      <td>4696.00</td>\n      <td>GTO</td>\n      <td>SKY Perfect JSAT Group</td>\n      <td>Success (drone ship)</td>\n      <td>1</td>\n      <td>28.562302</td>\n      <td>-80.577356</td>\n    </tr>\n    <tr>\n      <th>22</th>\n      <td>25</td>\n      <td>2016-05-27</td>\n      <td>21:39:00</td>\n      <td>F9 FT B1023.1</td>\n      <td>CCAFS LC-40</td>\n      <td>Thaicom 8</td>\n      <td>3100.00</td>\n      <td>GTO</td>\n      <td>Thaicom</td>\n      <td>Success  (drone ship)</td>\n      <td>1</td>\n      <td>28.562302</td>\n      <td>-80.577356</td>\n    </tr>\n    <tr>\n      <th>23</th>\n      <td>26</td>\n      <td>2016-06-15</td>\n      <td>14:29:00</td>\n      <td>F9 FT B1024</td>\n      <td>CCAFS LC-40</td>\n      <td>ABS-2A Eutelsat 117 West B</td>\n      <td>3600.00</td>\n      <td>GTO</td>\n      <td>ABS Eutelsat</td>\n      <td>Failure  (drone ship)</td>\n      <td>0</td>\n      <td>28.562302</td>\n      <td>-80.577356</td>\n    </tr>\n    <tr>\n      <th>24</th>\n      <td>27</td>\n      <td>2016-07-18</td>\n      <td>4:45:00</td>\n      <td>F9 FT B1025.1</td>\n      <td>CCAFS LC-40</td>\n      <td>SpaceX CRS-9</td>\n      <td>2257.00</td>\n      <td>LEO (ISS)</td>\n      <td>NASA (CRS)</td>\n      <td>Success (ground pad)</td>\n      <td>1</td>\n      <td>28.562302</td>\n      <td>-80.577356</td>\n    </tr>\n    <tr>\n      <th>25</th>\n      <td>28</td>\n      <td>2016-08-14</td>\n      <td>5:26:00</td>\n      <td>F9 FT B1026</td>\n      <td>CCAFS LC-40</td>\n      <td>JCSAT-16</td>\n      <td>4600.00</td>\n      <td>GTO</td>\n      <td>SKY Perfect JSAT Group</td>\n      <td>Success (drone ship)</td>\n      <td>1</td>\n      <td>28.562302</td>\n      <td>-80.577356</td>\n    </tr>\n    <tr>\n      <th>26</th>\n      <td>6</td>\n      <td>2013-09-29</td>\n      <td>16:00:00</td>\n      <td>F9 v1.1  B1003</td>\n      <td>VAFB SLC-4E</td>\n      <td>CASSIOPE</td>\n      <td>500.00</td>\n      <td>Polar LEO</td>\n      <td>MDA</td>\n      <td>Uncontrolled (ocean)</td>\n      <td>0</td>\n      <td>34.632834</td>\n      <td>-120.610745</td>\n    </tr>\n    <tr>\n      <th>27</th>\n      <td>21</td>\n      <td>2016-01-17</td>\n      <td>18:42:00</td>\n      <td>F9 v1.1 B1017</td>\n      <td>VAFB SLC-4E</td>\n      <td>Jason-3</td>\n      <td>553.00</td>\n      <td>LEO</td>\n      <td>NASA (LSP) NOAA CNES</td>\n      <td>Failure (drone ship)</td>\n      <td>0</td>\n      <td>34.632834</td>\n      <td>-120.610745</td>\n    </tr>\n    <tr>\n      <th>28</th>\n      <td>29</td>\n      <td>2017-01-14</td>\n      <td>17:54:00</td>\n      <td>F9 FT B1029.1</td>\n      <td>VAFB SLC-4E</td>\n      <td>Iridium NEXT 1</td>\n      <td>9600.00</td>\n      <td>Polar LEO</td>\n      <td>Iridium Communications</td>\n      <td>Success  (drone ship)</td>\n      <td>1</td>\n      <td>34.632834</td>\n      <td>-120.610745</td>\n    </tr>\n    <tr>\n      <th>29</th>\n      <td>37</td>\n      <td>2017-06-25</td>\n      <td>20:25:00</td>\n      <td>F9 FT B1036.1</td>\n      <td>VAFB SLC-4E</td>\n      <td>Iridium NEXT 2</td>\n      <td>9600.00</td>\n      <td>LEO</td>\n      <td>Iridium Communications</td>\n      <td>Success (drone ship)</td>\n      <td>1</td>\n      <td>34.632834</td>\n      <td>-120.610745</td>\n    </tr>\n    <tr>\n      <th>30</th>\n      <td>40</td>\n      <td>2017-08-24</td>\n      <td>18:51:00</td>\n      <td>F9 FT B1038.1</td>\n      <td>VAFB SLC-4E</td>\n      <td>Formosat-5</td>\n      <td>475.00</td>\n      <td>SSO</td>\n      <td>NSPO</td>\n      <td>Success (drone ship)</td>\n      <td>1</td>\n      <td>34.632834</td>\n      <td>-120.610745</td>\n    </tr>\n    <tr>\n      <th>31</th>\n      <td>42</td>\n      <td>2017-10-09</td>\n      <td>12:37:00</td>\n      <td>F9 B4 B1041.1</td>\n      <td>VAFB SLC-4E</td>\n      <td>Iridium NEXT 3</td>\n      <td>9600.00</td>\n      <td>Polar LEO</td>\n      <td>Iridium Communications</td>\n      <td>Success (drone ship)</td>\n      <td>1</td>\n      <td>34.632834</td>\n      <td>-120.610745</td>\n    </tr>\n    <tr>\n      <th>32</th>\n      <td>46</td>\n      <td>2017-12-23</td>\n      <td>1:27:00</td>\n      <td>F9 FT  B1036.2</td>\n      <td>VAFB SLC-4E</td>\n      <td>Iridium NEXT 4</td>\n      <td>9600.00</td>\n      <td>Polar LEO</td>\n      <td>Iridium Communications</td>\n      <td>Controlled (ocean)</td>\n      <td>0</td>\n      <td>34.632834</td>\n      <td>-120.610745</td>\n    </tr>\n    <tr>\n      <th>33</th>\n      <td>49</td>\n      <td>2018-02-22</td>\n      <td>14:17:00</td>\n      <td>F9 FT  B1038.2</td>\n      <td>VAFB SLC-4E</td>\n      <td>Paz  Tintin A &amp; B</td>\n      <td>2150.00</td>\n      <td>SSO</td>\n      <td>Hisdesat exactEarth SpaceX</td>\n      <td>No attempt</td>\n      <td>0</td>\n      <td>34.632834</td>\n      <td>-120.610745</td>\n    </tr>\n    <tr>\n      <th>34</th>\n      <td>51</td>\n      <td>2018-03-30</td>\n      <td>14:14:00</td>\n      <td>F9 B4  B1041.2</td>\n      <td>VAFB SLC-4E</td>\n      <td>Iridium NEXT 5</td>\n      <td>9600.00</td>\n      <td>Polar LEO</td>\n      <td>Iridium Communications</td>\n      <td>No attempt</td>\n      <td>0</td>\n      <td>34.632834</td>\n      <td>-120.610745</td>\n    </tr>\n    <tr>\n      <th>35</th>\n      <td>55</td>\n      <td>2018-05-22</td>\n      <td>19:47:58</td>\n      <td>F9 B4  B1043.2</td>\n      <td>VAFB SLC-4E</td>\n      <td>Iridium NEXT 6   GRACE-FO 1, 2</td>\n      <td>6460.00</td>\n      <td>Polar LEO</td>\n      <td>Iridium Communications GFZ • NASA</td>\n      <td>No attempt</td>\n      <td>0</td>\n      <td>34.632834</td>\n      <td>-120.610745</td>\n    </tr>\n    <tr>\n      <th>36</th>\n      <td>30</td>\n      <td>2017-02-19</td>\n      <td>14:39:00</td>\n      <td>F9 FT B1031.1</td>\n      <td>KSC LC-39A</td>\n      <td>SpaceX CRS-10</td>\n      <td>2490.00</td>\n      <td>LEO (ISS)</td>\n      <td>NASA (CRS)</td>\n      <td>Success (ground pad)</td>\n      <td>1</td>\n      <td>28.573255</td>\n      <td>-80.646895</td>\n    </tr>\n    <tr>\n      <th>37</th>\n      <td>31</td>\n      <td>2017-03-16</td>\n      <td>6:00:00</td>\n      <td>F9 FT B1030</td>\n      <td>KSC LC-39A</td>\n      <td>EchoStar 23</td>\n      <td>5600.00</td>\n      <td>GTO</td>\n      <td>EchoStar</td>\n      <td>No attempt</td>\n      <td>0</td>\n      <td>28.573255</td>\n      <td>-80.646895</td>\n    </tr>\n    <tr>\n      <th>38</th>\n      <td>32</td>\n      <td>2017-03-30</td>\n      <td>22:27:00</td>\n      <td>F9 FT  B1021.2</td>\n      <td>KSC LC-39A</td>\n      <td>SES-10</td>\n      <td>5300.00</td>\n      <td>GTO</td>\n      <td>SES</td>\n      <td>Success (drone ship)</td>\n      <td>1</td>\n      <td>28.573255</td>\n      <td>-80.646895</td>\n    </tr>\n    <tr>\n      <th>39</th>\n      <td>33</td>\n      <td>2017-05-01</td>\n      <td>11:15:00</td>\n      <td>F9 FT B1032.1</td>\n      <td>KSC LC-39A</td>\n      <td>NROL-76</td>\n      <td>3696.65</td>\n      <td>LEO</td>\n      <td>NRO</td>\n      <td>Success (ground pad)</td>\n      <td>1</td>\n      <td>28.573255</td>\n      <td>-80.646895</td>\n    </tr>\n    <tr>\n      <th>40</th>\n      <td>34</td>\n      <td>2017-05-15</td>\n      <td>23:21:00</td>\n      <td>F9 FT B1034</td>\n      <td>KSC LC-39A</td>\n      <td>Inmarsat-5 F4</td>\n      <td>6070.00</td>\n      <td>GTO</td>\n      <td>Inmarsat</td>\n      <td>No attempt</td>\n      <td>0</td>\n      <td>28.573255</td>\n      <td>-80.646895</td>\n    </tr>\n    <tr>\n      <th>41</th>\n      <td>35</td>\n      <td>2017-06-03</td>\n      <td>21:07:00</td>\n      <td>F9 FT B1035.1</td>\n      <td>KSC LC-39A</td>\n      <td>SpaceX CRS-11</td>\n      <td>2708.00</td>\n      <td>LEO (ISS)</td>\n      <td>NASA (CRS)</td>\n      <td>Success (ground pad)</td>\n      <td>1</td>\n      <td>28.573255</td>\n      <td>-80.646895</td>\n    </tr>\n    <tr>\n      <th>42</th>\n      <td>36</td>\n      <td>2017-06-23</td>\n      <td>19:10:00</td>\n      <td>F9 FT  B1029.2</td>\n      <td>KSC LC-39A</td>\n      <td>BulgariaSat-1</td>\n      <td>3669.00</td>\n      <td>GTO</td>\n      <td>Bulsatcom</td>\n      <td>Success (drone ship)</td>\n      <td>1</td>\n      <td>28.573255</td>\n      <td>-80.646895</td>\n    </tr>\n    <tr>\n      <th>43</th>\n      <td>38</td>\n      <td>2017-07-05</td>\n      <td>23:38:00</td>\n      <td>F9 FT B1037</td>\n      <td>KSC LC-39A</td>\n      <td>Intelsat 35e</td>\n      <td>6761.00</td>\n      <td>GTO</td>\n      <td>Intelsat</td>\n      <td>No attempt</td>\n      <td>0</td>\n      <td>28.573255</td>\n      <td>-80.646895</td>\n    </tr>\n    <tr>\n      <th>44</th>\n      <td>39</td>\n      <td>2017-08-14</td>\n      <td>16:31:00</td>\n      <td>F9 B4 B1039.1</td>\n      <td>KSC LC-39A</td>\n      <td>SpaceX CRS-12</td>\n      <td>3310.00</td>\n      <td>LEO (ISS)</td>\n      <td>NASA (CRS)</td>\n      <td>Success (ground pad)</td>\n      <td>1</td>\n      <td>28.573255</td>\n      <td>-80.646895</td>\n    </tr>\n    <tr>\n      <th>45</th>\n      <td>41</td>\n      <td>2017-09-07</td>\n      <td>14:00:00</td>\n      <td>F9 B4 B1040.1</td>\n      <td>KSC LC-39A</td>\n      <td>Boeing X-37B OTV-5</td>\n      <td>4990.00</td>\n      <td>LEO</td>\n      <td>U.S. Air Force</td>\n      <td>Success (ground pad)</td>\n      <td>1</td>\n      <td>28.573255</td>\n      <td>-80.646895</td>\n    </tr>\n    <tr>\n      <th>46</th>\n      <td>43</td>\n      <td>2017-10-11</td>\n      <td>22:53:00</td>\n      <td>F9 FT  B1031.2</td>\n      <td>KSC LC-39A</td>\n      <td>SES-11 / EchoStar 105</td>\n      <td>5200.00</td>\n      <td>GTO</td>\n      <td>SES EchoStar</td>\n      <td>Success (drone ship)</td>\n      <td>1</td>\n      <td>28.573255</td>\n      <td>-80.646895</td>\n    </tr>\n    <tr>\n      <th>47</th>\n      <td>44</td>\n      <td>2017-10-30</td>\n      <td>19:34:00</td>\n      <td>F9 B4 B1042.1</td>\n      <td>KSC LC-39A</td>\n      <td>Koreasat 5A</td>\n      <td>3500.00</td>\n      <td>GTO</td>\n      <td>KT Corporation</td>\n      <td>Success (drone ship)</td>\n      <td>1</td>\n      <td>28.573255</td>\n      <td>-80.646895</td>\n    </tr>\n    <tr>\n      <th>48</th>\n      <td>54</td>\n      <td>2018-05-11</td>\n      <td>20:14:00</td>\n      <td>F9 B5  B1046.1</td>\n      <td>KSC LC-39A</td>\n      <td>Bangabandhu-1</td>\n      <td>3600.00</td>\n      <td>GTO</td>\n      <td>Thales-Alenia/BTRC</td>\n      <td>Success (drone ship)</td>\n      <td>1</td>\n      <td>28.573255</td>\n      <td>-80.646895</td>\n    </tr>\n    <tr>\n      <th>49</th>\n      <td>45</td>\n      <td>2017-12-15</td>\n      <td>15:36:00</td>\n      <td>F9 FT  B1035.2</td>\n      <td>CCAFS SLC-40</td>\n      <td>SpaceX CRS-13</td>\n      <td>2205.00</td>\n      <td>LEO (ISS)</td>\n      <td>NASA (CRS)</td>\n      <td>Success (ground pad)</td>\n      <td>1</td>\n      <td>28.563197</td>\n      <td>-80.576820</td>\n    </tr>\n    <tr>\n      <th>50</th>\n      <td>47</td>\n      <td>2018-01-08</td>\n      <td>1:00:00</td>\n      <td>F9 B4 B1043.1</td>\n      <td>CCAFS SLC-40</td>\n      <td>Zuma</td>\n      <td>3696.65</td>\n      <td>LEO</td>\n      <td>Northrop Grumman</td>\n      <td>Success (ground pad)</td>\n      <td>1</td>\n      <td>28.563197</td>\n      <td>-80.576820</td>\n    </tr>\n    <tr>\n      <th>51</th>\n      <td>48</td>\n      <td>2018-01-31</td>\n      <td>21:25:00</td>\n      <td>F9 FT  B1032.2</td>\n      <td>CCAFS SLC-40</td>\n      <td>GovSat-1 / SES-16</td>\n      <td>4230.00</td>\n      <td>GTO</td>\n      <td>SES</td>\n      <td>Controlled (ocean)</td>\n      <td>0</td>\n      <td>28.563197</td>\n      <td>-80.576820</td>\n    </tr>\n    <tr>\n      <th>52</th>\n      <td>50</td>\n      <td>2018-03-06</td>\n      <td>5:33:00</td>\n      <td>F9 B4 B1044</td>\n      <td>CCAFS SLC-40</td>\n      <td>Hispasat 30W-6  PODSat</td>\n      <td>6092.00</td>\n      <td>GTO</td>\n      <td>Hispasat  NovaWurks</td>\n      <td>No attempt</td>\n      <td>0</td>\n      <td>28.563197</td>\n      <td>-80.576820</td>\n    </tr>\n    <tr>\n      <th>53</th>\n      <td>52</td>\n      <td>2018-04-02</td>\n      <td>20:30:00</td>\n      <td>F9 B4  B1039.2</td>\n      <td>CCAFS SLC-40</td>\n      <td>SpaceX CRS-14</td>\n      <td>2647.00</td>\n      <td>LEO (ISS)</td>\n      <td>NASA (CRS)</td>\n      <td>No attempt</td>\n      <td>0</td>\n      <td>28.563197</td>\n      <td>-80.576820</td>\n    </tr>\n    <tr>\n      <th>54</th>\n      <td>53</td>\n      <td>2018-04-18</td>\n      <td>22:51:00</td>\n      <td>F9 B4 B1045.1</td>\n      <td>CCAFS SLC-40</td>\n      <td>Transiting Exoplanet Survey Satellite (TESS)</td>\n      <td>362.00</td>\n      <td>HEO</td>\n      <td>NASA (LSP)</td>\n      <td>Success (drone ship)</td>\n      <td>1</td>\n      <td>28.563197</td>\n      <td>-80.576820</td>\n    </tr>\n    <tr>\n      <th>55</th>\n      <td>56</td>\n      <td>2018-06-04</td>\n      <td>4:45:00</td>\n      <td>F9 B4  B1040.2</td>\n      <td>CCAFS SLC-40</td>\n      <td>SES-12</td>\n      <td>5384.00</td>\n      <td>GTO</td>\n      <td>SES</td>\n      <td>No attempt</td>\n      <td>0</td>\n      <td>28.563197</td>\n      <td>-80.576820</td>\n    </tr>\n  </tbody>\n</table>\n</div>"
          },
          "metadata": {}
        }
      ],
      "execution_count": 7
    },
    {
      "cell_type": "markdown",
      "source": "Now, you can take a look at what are the coordinates for each site.\n",
      "metadata": {}
    },
    {
      "cell_type": "code",
      "source": "# Select relevant sub-columns: `Launch Site`, `Lat(Latitude)`, `Long(Longitude)`, `class`\nspacex_df = spacex_df[['Launch Site', 'Lat', 'Long', 'class']]\nlaunch_sites_df = spacex_df.groupby(['Launch Site'], as_index=False).first()\nlaunch_sites_df = launch_sites_df[['Launch Site', 'Lat', 'Long']]\nlaunch_sites_df",
      "metadata": {
        "trusted": true
      },
      "outputs": [
        {
          "execution_count": 8,
          "output_type": "execute_result",
          "data": {
            "text/plain": "    Launch Site        Lat        Long\n0   CCAFS LC-40  28.562302  -80.577356\n1  CCAFS SLC-40  28.563197  -80.576820\n2    KSC LC-39A  28.573255  -80.646895\n3   VAFB SLC-4E  34.632834 -120.610745",
            "text/html": "<div>\n<style scoped>\n    .dataframe tbody tr th:only-of-type {\n        vertical-align: middle;\n    }\n\n    .dataframe tbody tr th {\n        vertical-align: top;\n    }\n\n    .dataframe thead th {\n        text-align: right;\n    }\n</style>\n<table border=\"1\" class=\"dataframe\">\n  <thead>\n    <tr style=\"text-align: right;\">\n      <th></th>\n      <th>Launch Site</th>\n      <th>Lat</th>\n      <th>Long</th>\n    </tr>\n  </thead>\n  <tbody>\n    <tr>\n      <th>0</th>\n      <td>CCAFS LC-40</td>\n      <td>28.562302</td>\n      <td>-80.577356</td>\n    </tr>\n    <tr>\n      <th>1</th>\n      <td>CCAFS SLC-40</td>\n      <td>28.563197</td>\n      <td>-80.576820</td>\n    </tr>\n    <tr>\n      <th>2</th>\n      <td>KSC LC-39A</td>\n      <td>28.573255</td>\n      <td>-80.646895</td>\n    </tr>\n    <tr>\n      <th>3</th>\n      <td>VAFB SLC-4E</td>\n      <td>34.632834</td>\n      <td>-120.610745</td>\n    </tr>\n  </tbody>\n</table>\n</div>"
          },
          "metadata": {}
        }
      ],
      "execution_count": 8
    },
    {
      "cell_type": "markdown",
      "source": "Above coordinates are just plain numbers that can not give you any intuitive insights about where are those launch sites. If you are very good at geography, you can interpret those numbers directly in your mind. If not, that's fine too. Let's visualize those locations by pinning them on a map.\n",
      "metadata": {}
    },
    {
      "cell_type": "markdown",
      "source": "We first need to create a folium `Map` object, with an initial center location to be NASA Johnson Space Center at Houston, Texas.\n",
      "metadata": {}
    },
    {
      "cell_type": "code",
      "source": "# Start location is NASA Johnson Space Center\nnasa_coordinate = [29.559684888503615, -95.0830971930759]\nsite_map = folium.Map(location=nasa_coordinate, zoom_start=10)",
      "metadata": {
        "trusted": true
      },
      "outputs": [],
      "execution_count": 9
    },
    {
      "cell_type": "markdown",
      "source": "We could use `folium.Circle` to add a highlighted circle area with a text label on a specific coordinate. For example,\n",
      "metadata": {}
    },
    {
      "cell_type": "code",
      "source": "# Create a blue circle at NASA Johnson Space Center's coordinate with a popup label showing its name\ncircle = folium.Circle(nasa_coordinate, radius=1000, color='#d35400', fill=True).add_child(folium.Popup('NASA Johnson Space Center'))\n# Create a blue circle at NASA Johnson Space Center's coordinate with a icon showing its name\nmarker = folium.map.Marker(\n    nasa_coordinate,\n    # Create an icon as a text label\n    icon=DivIcon(\n        icon_size=(20,20),\n        icon_anchor=(0,0),\n        html='<div style=\"font-size: 12; color:#d35400;\"><b>%s</b></div>' % 'NASA JSC',\n        )\n    )\nsite_map.add_child(circle)\nsite_map.add_child(marker)\nsite_map.save(\"nasa_jsc_map.html\")",
      "metadata": {
        "trusted": true
      },
      "outputs": [],
      "execution_count": 12
    },
    {
      "cell_type": "markdown",
      "source": "and you should find a small yellow circle near the city of Houston and you can zoom-in to see a larger circle.\n",
      "metadata": {}
    },
    {
      "cell_type": "markdown",
      "source": "Now, let's add a circle for each launch site in data frame `launch_sites`\n",
      "metadata": {}
    },
    {
      "cell_type": "markdown",
      "source": "*TODO:*  Create and add `folium.Circle` and `folium.Marker` for each launch site on the site map\n",
      "metadata": {}
    },
    {
      "cell_type": "markdown",
      "source": "An example of folium.Circle:\n",
      "metadata": {}
    },
    {
      "cell_type": "markdown",
      "source": "`folium.Circle(coordinate, radius=1000, color='#000000', fill=True).add_child(folium.Popup(...))`\n",
      "metadata": {}
    },
    {
      "cell_type": "markdown",
      "source": "An example of folium.Marker:\n",
      "metadata": {}
    },
    {
      "cell_type": "markdown",
      "source": "`folium.map.Marker(coordinate, icon=DivIcon(icon_size=(20,20),icon_anchor=(0,0), html='<div style=\"font-size: 12; color:#d35400;\"><b>%s</b></div>' % 'label', ))`\n",
      "metadata": {}
    },
    {
      "cell_type": "code",
      "source": "# Define coordinates\nlaunch_sites = {\n    'CCAFS LC-40': [28.562302, -80.577356],\n    'CCAFS SLC-40': [28.563197, -80.576820],\n    'KSC LC-39A': [28.573255, -80.646895],\n    'VAFB SLC-4E': [34.632834, -120.610745],\n    'NASA Johnson Space Center': [29.559684, -95.083097]  # This is nasa_coordinate\n}\n\n# Set the initial map centered around NASA JSC\nnasa_coordinate = launch_sites['NASA Johnson Space Center']\nsite_map = folium.Map(location=nasa_coordinate, zoom_start=5)\n\n# Add a circle and text label for each launch site\nfor site_name, coord in launch_sites.items():\n    # Add circle with popup\n    circle = folium.Circle(\n        location=coord,\n        radius=1000,\n        color='#d35400',\n        fill=True\n    ).add_child(folium.Popup(site_name))\n    \n    # Add text label using DivIcon\n    marker = folium.map.Marker(\n        coord,\n        icon=DivIcon(\n            icon_size=(20, 20),\n            icon_anchor=(0, 0),\n            html=f'<div style=\"font-size: 12px; color:#d35400;\"><b>{site_name}</b></div>'\n        )\n    )\n    \n    # Add both to the map\n    site_map.add_child(circle)\n    site_map.add_child(marker)\n\n# Save the map to an HTML file\nsite_map.save(\"launch_sites_map.html\")\n",
      "metadata": {
        "trusted": true
      },
      "outputs": [],
      "execution_count": 13
    },
    {
      "cell_type": "markdown",
      "source": "The generated map with marked launch sites should look similar to the following:\n",
      "metadata": {}
    },
    {
      "cell_type": "markdown",
      "source": "<center>\n    <img src=\"https://cf-courses-data.s3.us.cloud-object-storage.appdomain.cloud/IBM-DS0321EN-SkillsNetwork/labs/module_3/images/launch_site_markers.png\">\n</center>\n",
      "metadata": {}
    },
    {
      "cell_type": "markdown",
      "source": "Now, you can explore the map by zoom-in/out the marked areas\n, and try to answer the following questions:\n\n*   Are all launch sites in proximity to the Equator line?\n*   Are all launch sites in very close proximity to the coast?\n\nAlso please try to explain your findings.\n",
      "metadata": {}
    },
    {
      "cell_type": "code",
      "source": "# Task 2: Mark the success/failed launches for each site on the map\n",
      "metadata": {},
      "outputs": [],
      "execution_count": null
    },
    {
      "cell_type": "markdown",
      "source": "Next, let's try to enhance the map by adding the launch outcomes for each site, and see which sites have high success rates.\nRecall that data frame spacex_df has detailed launch records, and the `class` column indicates if this launch was successful or not\n",
      "metadata": {}
    },
    {
      "cell_type": "code",
      "source": "spacex_df.tail(10)",
      "metadata": {
        "trusted": true
      },
      "outputs": [
        {
          "execution_count": 14,
          "output_type": "execute_result",
          "data": {
            "text/plain": "     Launch Site        Lat       Long  class\n46    KSC LC-39A  28.573255 -80.646895      1\n47    KSC LC-39A  28.573255 -80.646895      1\n48    KSC LC-39A  28.573255 -80.646895      1\n49  CCAFS SLC-40  28.563197 -80.576820      1\n50  CCAFS SLC-40  28.563197 -80.576820      1\n51  CCAFS SLC-40  28.563197 -80.576820      0\n52  CCAFS SLC-40  28.563197 -80.576820      0\n53  CCAFS SLC-40  28.563197 -80.576820      0\n54  CCAFS SLC-40  28.563197 -80.576820      1\n55  CCAFS SLC-40  28.563197 -80.576820      0",
            "text/html": "<div>\n<style scoped>\n    .dataframe tbody tr th:only-of-type {\n        vertical-align: middle;\n    }\n\n    .dataframe tbody tr th {\n        vertical-align: top;\n    }\n\n    .dataframe thead th {\n        text-align: right;\n    }\n</style>\n<table border=\"1\" class=\"dataframe\">\n  <thead>\n    <tr style=\"text-align: right;\">\n      <th></th>\n      <th>Launch Site</th>\n      <th>Lat</th>\n      <th>Long</th>\n      <th>class</th>\n    </tr>\n  </thead>\n  <tbody>\n    <tr>\n      <th>46</th>\n      <td>KSC LC-39A</td>\n      <td>28.573255</td>\n      <td>-80.646895</td>\n      <td>1</td>\n    </tr>\n    <tr>\n      <th>47</th>\n      <td>KSC LC-39A</td>\n      <td>28.573255</td>\n      <td>-80.646895</td>\n      <td>1</td>\n    </tr>\n    <tr>\n      <th>48</th>\n      <td>KSC LC-39A</td>\n      <td>28.573255</td>\n      <td>-80.646895</td>\n      <td>1</td>\n    </tr>\n    <tr>\n      <th>49</th>\n      <td>CCAFS SLC-40</td>\n      <td>28.563197</td>\n      <td>-80.576820</td>\n      <td>1</td>\n    </tr>\n    <tr>\n      <th>50</th>\n      <td>CCAFS SLC-40</td>\n      <td>28.563197</td>\n      <td>-80.576820</td>\n      <td>1</td>\n    </tr>\n    <tr>\n      <th>51</th>\n      <td>CCAFS SLC-40</td>\n      <td>28.563197</td>\n      <td>-80.576820</td>\n      <td>0</td>\n    </tr>\n    <tr>\n      <th>52</th>\n      <td>CCAFS SLC-40</td>\n      <td>28.563197</td>\n      <td>-80.576820</td>\n      <td>0</td>\n    </tr>\n    <tr>\n      <th>53</th>\n      <td>CCAFS SLC-40</td>\n      <td>28.563197</td>\n      <td>-80.576820</td>\n      <td>0</td>\n    </tr>\n    <tr>\n      <th>54</th>\n      <td>CCAFS SLC-40</td>\n      <td>28.563197</td>\n      <td>-80.576820</td>\n      <td>1</td>\n    </tr>\n    <tr>\n      <th>55</th>\n      <td>CCAFS SLC-40</td>\n      <td>28.563197</td>\n      <td>-80.576820</td>\n      <td>0</td>\n    </tr>\n  </tbody>\n</table>\n</div>"
          },
          "metadata": {}
        }
      ],
      "execution_count": 14
    },
    {
      "cell_type": "markdown",
      "source": "Next, let's create markers for all launch records.\nIf a launch was successful `(class=1)`, then we use a green marker and if a launch was failed, we use a red marker `(class=0)`\n",
      "metadata": {}
    },
    {
      "cell_type": "markdown",
      "source": "Note that a launch only happens in one of the four launch sites, which means many launch records will have the exact same coordinate. Marker clusters can be a good way to simplify a map containing many markers having the same coordinate.\n",
      "metadata": {}
    },
    {
      "cell_type": "markdown",
      "source": "Let's first create a `MarkerCluster` object\n",
      "metadata": {}
    },
    {
      "cell_type": "code",
      "source": "marker_cluster = MarkerCluster()\n",
      "metadata": {
        "trusted": true
      },
      "outputs": [],
      "execution_count": 15
    },
    {
      "cell_type": "markdown",
      "source": "*TODO:* Create a new column in `spacex_df` dataframe called `marker_color` to store the marker colors based on the `class` value\n",
      "metadata": {}
    },
    {
      "cell_type": "code",
      "source": "# Apply a function to check the value of `class` column\n# If class=1, marker_color value will be green\n# If class=0, marker_color value will be red\n\ndef get_marker_color(launch_class):\n    if launch_class == 1:\n        return 'green'\n    else:\n        return 'red'\nspacex_df['marker_color'] = spacex_df['class'].apply(get_marker_color)",
      "metadata": {
        "trusted": true
      },
      "outputs": [
        {
          "name": "stderr",
          "text": "<ipython-input-16-b57d3aa73f67>:10: SettingWithCopyWarning: \nA value is trying to be set on a copy of a slice from a DataFrame.\nTry using .loc[row_indexer,col_indexer] = value instead\n\nSee the caveats in the documentation: https://pandas.pydata.org/pandas-docs/stable/user_guide/indexing.html#returning-a-view-versus-a-copy\n  spacex_df['marker_color'] = spacex_df['class'].apply(get_marker_color)\n",
          "output_type": "stream"
        }
      ],
      "execution_count": 16
    },
    {
      "cell_type": "code",
      "source": "spacex_df.tail()",
      "metadata": {
        "trusted": true
      },
      "outputs": [
        {
          "execution_count": 18,
          "output_type": "execute_result",
          "data": {
            "text/plain": "     Launch Site        Lat      Long  class marker_color\n51  CCAFS SLC-40  28.563197 -80.57682      0          red\n52  CCAFS SLC-40  28.563197 -80.57682      0          red\n53  CCAFS SLC-40  28.563197 -80.57682      0          red\n54  CCAFS SLC-40  28.563197 -80.57682      1        green\n55  CCAFS SLC-40  28.563197 -80.57682      0          red",
            "text/html": "<div>\n<style scoped>\n    .dataframe tbody tr th:only-of-type {\n        vertical-align: middle;\n    }\n\n    .dataframe tbody tr th {\n        vertical-align: top;\n    }\n\n    .dataframe thead th {\n        text-align: right;\n    }\n</style>\n<table border=\"1\" class=\"dataframe\">\n  <thead>\n    <tr style=\"text-align: right;\">\n      <th></th>\n      <th>Launch Site</th>\n      <th>Lat</th>\n      <th>Long</th>\n      <th>class</th>\n      <th>marker_color</th>\n    </tr>\n  </thead>\n  <tbody>\n    <tr>\n      <th>51</th>\n      <td>CCAFS SLC-40</td>\n      <td>28.563197</td>\n      <td>-80.57682</td>\n      <td>0</td>\n      <td>red</td>\n    </tr>\n    <tr>\n      <th>52</th>\n      <td>CCAFS SLC-40</td>\n      <td>28.563197</td>\n      <td>-80.57682</td>\n      <td>0</td>\n      <td>red</td>\n    </tr>\n    <tr>\n      <th>53</th>\n      <td>CCAFS SLC-40</td>\n      <td>28.563197</td>\n      <td>-80.57682</td>\n      <td>0</td>\n      <td>red</td>\n    </tr>\n    <tr>\n      <th>54</th>\n      <td>CCAFS SLC-40</td>\n      <td>28.563197</td>\n      <td>-80.57682</td>\n      <td>1</td>\n      <td>green</td>\n    </tr>\n    <tr>\n      <th>55</th>\n      <td>CCAFS SLC-40</td>\n      <td>28.563197</td>\n      <td>-80.57682</td>\n      <td>0</td>\n      <td>red</td>\n    </tr>\n  </tbody>\n</table>\n</div>"
          },
          "metadata": {}
        }
      ],
      "execution_count": 18
    },
    {
      "cell_type": "markdown",
      "source": "*TODO:* For each launch result in `spacex_df` data frame, add a `folium.Marker` to `marker_cluster`\n",
      "metadata": {}
    },
    {
      "cell_type": "code",
      "source": "# Add marker_cluster to current site_map\nsite_map.add_child(marker_cluster)\n\n# For each row in spacex_df data frame\nfor index, record in spacex_df.iterrows():\n    # Create and add a Marker to the marker cluster\n    marker = folium.Marker(\n        location=[record['Lat'], record['Long']],\n        popup=f\"{record['Launch Site']}<br>Outcome: {'Success' if record['class'] == 1 else 'Failure'}\",\n        icon=folium.Icon(color='white', icon_color=record['marker_color'], icon='rocket', prefix='fa')\n    )\n    marker_cluster.add_child(marker)\n\n# Show map\nsite_map\nsite_map.save(\"launch_sites_map.html\")",
      "metadata": {
        "trusted": true
      },
      "outputs": [],
      "execution_count": 21
    },
    {
      "cell_type": "markdown",
      "source": "Your updated map may look like the following screenshots:\n",
      "metadata": {}
    },
    {
      "cell_type": "markdown",
      "source": "<center>\n    <img src=\"https://cf-courses-data.s3.us.cloud-object-storage.appdomain.cloud/IBM-DS0321EN-SkillsNetwork/labs/module_3/images/launch_site_marker_cluster.png\">\n</center>\n",
      "metadata": {}
    },
    {
      "cell_type": "markdown",
      "source": "<center>\n    <img src=\"https://cf-courses-data.s3.us.cloud-object-storage.appdomain.cloud/IBM-DS0321EN-SkillsNetwork/labs/module_3/images/launch_site_marker_cluster_zoomed.png\">\n</center>\n",
      "metadata": {}
    },
    {
      "cell_type": "markdown",
      "source": "From the color-labeled markers in marker clusters, you should be able to easily identify which launch sites have relatively high success rates.\n",
      "metadata": {}
    },
    {
      "cell_type": "code",
      "source": "# TASK 3: Calculate the distances between a launch site to its proximities\n",
      "metadata": {},
      "outputs": [],
      "execution_count": null
    },
    {
      "cell_type": "markdown",
      "source": "Next, we need to explore and analyze the proximities of launch sites.\n",
      "metadata": {}
    },
    {
      "cell_type": "markdown",
      "source": "Let's first add a `MousePosition` on the map to get coordinate for a mouse over a point on the map. As such, while you are exploring the map, you can easily find the coordinates of any points of interests (such as railway)\n",
      "metadata": {}
    },
    {
      "cell_type": "code",
      "source": "# Add Mouse Position to get the coordinate (Lat, Long) for a mouse over on the map\nformatter = \"function(num) {return L.Util.formatNum(num, 5);};\"\nmouse_position = MousePosition(\n    position='topright',\n    separator=' Long: ',\n    empty_string='NaN',\n    lng_first=False,\n    num_digits=20,\n    prefix='Lat:',\n    lat_formatter=formatter,\n    lng_formatter=formatter,\n)\n\nsite_map.add_child(mouse_position)\nsite_map\nsite_map.save(\"launch_sites_map.html\")",
      "metadata": {
        "trusted": true
      },
      "outputs": [],
      "execution_count": 23
    },
    {
      "cell_type": "markdown",
      "source": "Now zoom in to a launch site and explore its proximity to see if you can easily find any railway, highway, coastline, etc. Move your mouse to these points and mark down their coordinates (shown on the top-left) in order to the distance to the launch site.\n",
      "metadata": {}
    },
    {
      "cell_type": "markdown",
      "source": "Now zoom in to a launch site and explore its proximity to see if you can easily find any railway, highway, coastline, etc. Move your mouse to these points and mark down their coordinates (shown on the top-left) in order to the distance to the launch site.\n",
      "metadata": {}
    },
    {
      "cell_type": "code",
      "source": "from math import sin, cos, sqrt, atan2, radians\n\ndef calculate_distance(lat1, lon1, lat2, lon2):\n    # approximate radius of earth in km\n    R = 6373.0\n\n    lat1 = radians(lat1)\n    lon1 = radians(lon1)\n    lat2 = radians(lat2)\n    lon2 = radians(lon2)\n\n    dlon = lon2 - lon1\n    dlat = lat2 - lat1\n\n    a = sin(dlat / 2)**2 + cos(lat1) * cos(lat2) * sin(dlon / 2)**2\n    c = 2 * atan2(sqrt(a), sqrt(1 - a))\n\n    distance = R * c\n    return distance",
      "metadata": {
        "trusted": true
      },
      "outputs": [],
      "execution_count": 25
    },
    {
      "cell_type": "markdown",
      "source": "*TODO:* Mark down a point on the closest coastline using MousePosition and calculate the distance between the coastline point and the launch site.\n",
      "metadata": {}
    },
    {
      "cell_type": "code",
      "source": "# find coordinate of the closet coastline\n# e.g.,: Lat: 28.56367  Lon: -80.57163\nlaunch_lat=28.56323\nlaunch_lon=-80.57669\ncoast_lat=28.56319\ncoast_lon=-80.56789\n\ndistance_coastline = calculate_distance(launch_lat, launch_lon, coast_lat, coast_lon)",
      "metadata": {
        "trusted": true
      },
      "outputs": [],
      "execution_count": 32
    },
    {
      "cell_type": "code",
      "source": "distance_coastline",
      "metadata": {
        "trusted": true
      },
      "outputs": [
        {
          "execution_count": 33,
          "output_type": "execute_result",
          "data": {
            "text/plain": "0.8597017169036081"
          },
          "metadata": {}
        }
      ],
      "execution_count": 33
    },
    {
      "cell_type": "code",
      "source": "# Create and add a folium.Marker on your selected closest coastline point on the map\n# Display the distance between coastline point and launch site using the icon property \n# for example\ndistance_marker = folium.Marker(\n    location=[28.56323, -80.57669],\n    icon=DivIcon(\n        icon_size=(20,20),\n        icon_anchor=(0,0),\n        html='<div style=\"font-size: 12; color:#d35400;\"><b>%s</b></div>' % \"{:10.2f} KM\".format(distance_coastline),\n        )\n    )",
      "metadata": {
        "trusted": true
      },
      "outputs": [],
      "execution_count": 36
    },
    {
      "cell_type": "markdown",
      "source": "*TODO:* Draw a `PolyLine` between a launch site to the selected coastline point\n",
      "metadata": {}
    },
    {
      "cell_type": "code",
      "source": "coordinates=[28.563197, -80.57682, 28.56323, -80.57669]",
      "metadata": {
        "trusted": true
      },
      "outputs": [],
      "execution_count": 38
    },
    {
      "cell_type": "code",
      "source": "# Define the coordinates for the line\nlaunch_site = [28.563197, -80.57682]\n\n# Closest coastline point (from MousePosition or manual selection)\ncoastline_point = [28.56323, -80.57669]\n\n# Create a PolyLine and add it to the map\nlines = folium.PolyLine(locations=[launch_site, coastline_point], weight=2, color='blue')\nsite_map.add_child(lines)\n\n# Display the map\nsite_map\nsite_map.save(\"launch_sites_map.html\")",
      "metadata": {
        "trusted": true
      },
      "outputs": [],
      "execution_count": 42
    },
    {
      "cell_type": "markdown",
      "source": "Your updated map with distance line should look like the following screenshot:\n",
      "metadata": {}
    },
    {
      "cell_type": "markdown",
      "source": "<center>\n    <img src=\"https://cf-courses-data.s3.us.cloud-object-storage.appdomain.cloud/IBM-DS0321EN-SkillsNetwork/labs/module_3/images/launch_site_marker_distance.png\">\n</center>\n",
      "metadata": {}
    },
    {
      "cell_type": "markdown",
      "source": "*TODO:* Similarly, you can draw a line betwee a launch site to its closest city, railway, highway, etc. You need to use `MousePosition` to find the their coordinates on the map first\n",
      "metadata": {}
    },
    {
      "cell_type": "markdown",
      "source": "A railway map symbol may look like this:\n",
      "metadata": {}
    },
    {
      "cell_type": "markdown",
      "source": "<center>\n    <img src=\"https://cf-courses-data.s3.us.cloud-object-storage.appdomain.cloud/IBM-DS0321EN-SkillsNetwork/labs/module_3/images/railway.png\">\n</center>\n",
      "metadata": {}
    },
    {
      "cell_type": "markdown",
      "source": "A highway map symbol may look like this:\n",
      "metadata": {}
    },
    {
      "cell_type": "markdown",
      "source": "<center>\n    <img src=\"https://cf-courses-data.s3.us.cloud-object-storage.appdomain.cloud/IBM-DS0321EN-SkillsNetwork/labs/module_3/images/highway.png\">\n</center>\n",
      "metadata": {}
    },
    {
      "cell_type": "markdown",
      "source": "A city map symbol may look like this:\n",
      "metadata": {}
    },
    {
      "cell_type": "markdown",
      "source": "<center>\n    <img src=\"https://cf-courses-data.s3.us.cloud-object-storage.appdomain.cloud/IBM-DS0321EN-SkillsNetwork/labs/module_3/images/city.png\">\n</center>\n",
      "metadata": {}
    },
    {
      "cell_type": "code",
      "source": "# Create a marker with distance to a closest city, railway, highway, etc.\n# Draw a line between the marker to the launch site\n",
      "metadata": {},
      "outputs": [],
      "execution_count": null
    },
    {
      "cell_type": "code",
      "source": "",
      "metadata": {},
      "outputs": [],
      "execution_count": null
    },
    {
      "cell_type": "code",
      "source": "",
      "metadata": {},
      "outputs": [],
      "execution_count": null
    },
    {
      "cell_type": "markdown",
      "source": "After you plot distance lines to the proximities, you can answer the following questions easily:\n\n*   Are launch sites in close proximity to railways?\n*   Are launch sites in close proximity to highways?\n*   Are launch sites in close proximity to coastline?\n*   Do launch sites keep certain distance away from cities?\n\nAlso please try to explain your findings.\n",
      "metadata": {}
    },
    {
      "cell_type": "markdown",
      "source": "# Next Steps:\n\nNow you have discovered many interesting insights related to the launch sites' location using folium, in a very interactive way. Next, you will need to build a dashboard using Ploty Dash on detailed launch records.\n",
      "metadata": {}
    },
    {
      "cell_type": "markdown",
      "source": "## Authors\n",
      "metadata": {}
    },
    {
      "cell_type": "markdown",
      "source": "[Pratiksha Verma](https://www.linkedin.com/in/pratiksha-verma-6487561b1/)\n",
      "metadata": {}
    },
    {
      "cell_type": "markdown",
      "source": "<!--## Change Log--!>\n",
      "metadata": {}
    },
    {
      "cell_type": "markdown",
      "source": "<!--| Date (YYYY-MM-DD) | Version | Changed By      | Change Description      |\n| ----------------- | ------- | -------------   | ----------------------- |\n| 2022-11-09        | 1.0     | Pratiksha Verma | Converted initial version to Jupyterlite|--!>\n",
      "metadata": {}
    },
    {
      "cell_type": "markdown",
      "source": "### <h3 align=\"center\"> IBM Corporation 2022. All rights reserved. <h3/>\n",
      "metadata": {}
    }
  ]
}